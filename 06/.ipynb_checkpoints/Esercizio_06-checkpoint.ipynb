{
 "cells": [
  {
   "cell_type": "markdown",
   "metadata": {},
   "source": [
    "# Esercizio 6.1\n",
    "\n",
    "Stima di grandezze relative al modello di Ising monodimensionale, valutate al variare della temperatura, sfruttando algoritmo di Metropolis con campionamento standard e alla Gibbs."
   ]
  },
  {
   "cell_type": "code",
   "execution_count": null,
   "metadata": {},
   "outputs": [],
   "source": [
    "import numpy as np\n",
    "import matplotlib.pyplot as plt\n",
    "points=100\n",
    "T = np.linspace(0.2,3.0,num=points)\n",
    "beta = 1/T\n",
    "J = 1.0\n",
    "Ns = 50\n",
    "th = np.tanh(J/T)\n",
    "thN= th**Ns\n",
    "ch = 1/th\n",
    "e = -J*( th + ch*thN )/( 1 + thN )\n",
    "plt.plot(T, e)\n",
    "plt.title('Ising 1D, internal energy')\n",
    "plt.xlabel('T')\n",
    "plt.ylabel('U/N')\n",
    "plt.show()"
   ]
  }
 ],
 "metadata": {
  "kernelspec": {
   "display_name": "Python 3",
   "language": "python",
   "name": "python3"
  },
  "language_info": {
   "codemirror_mode": {
    "name": "ipython",
    "version": 3
   },
   "file_extension": ".py",
   "mimetype": "text/x-python",
   "name": "python",
   "nbconvert_exporter": "python",
   "pygments_lexer": "ipython3",
   "version": "3.7.6"
  }
 },
 "nbformat": 4,
 "nbformat_minor": 4
}
